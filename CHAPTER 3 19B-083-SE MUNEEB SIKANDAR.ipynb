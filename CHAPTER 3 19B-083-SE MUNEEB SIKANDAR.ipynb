{
 "cells": [
  {
   "cell_type": "markdown",
   "metadata": {},
   "source": [
    "# Practice Problem 3.1"
   ]
  },
  {
   "cell_type": "code",
   "execution_count": 1,
   "metadata": {},
   "outputs": [
    {
     "name": "stdout",
     "output_type": "stream",
     "text": [
      "Enter the temperature in degree fahrenheit: 45\n",
      "temp in degree celcius in fahrenheit is:  7.222222222222222\n"
     ]
    }
   ],
   "source": [
    "temp_fahrenheit = eval(input(\"Enter the temperature in degree fahrenheit: \"))\n",
    "temp_celcius = 5/9*(temp_fahrenheit-32)\n",
    "print(\"temp in degree celcius in fahrenheit is: \",temp_celcius)"
   ]
  },
  {
   "cell_type": "code",
   "execution_count": 10,
   "metadata": {},
   "outputs": [
    {
     "name": "stdout",
     "output_type": "stream",
     "text": [
      "Enter the current temperature: 2\n"
     ]
    }
   ],
   "source": [
    "temp = eval(input(\"Enter the current temperature: \"))\n",
    "\n",
    "if temp > 86:\n",
    "    print(\"it is hot\")\n",
    "    print(\"make sure to drink liquids\")"
   ]
  },
  {
   "cell_type": "code",
   "execution_count": 11,
   "metadata": {},
   "outputs": [
    {
     "name": "stdout",
     "output_type": "stream",
     "text": [
      "Enter the current temperature: 2\n",
      "good bye\n"
     ]
    }
   ],
   "source": [
    "temp = eval(input(\"Enter the current temperature: \"))\n",
    "\n",
    "if temp > 86:\n",
    "    print(\"it is hot\")\n",
    "    print(\"make sure to drink liquids\")\n",
    "print(\"good bye\")"
   ]
  },
  {
   "cell_type": "code",
   "execution_count": 12,
   "metadata": {},
   "outputs": [
    {
     "name": "stdout",
     "output_type": "stream",
     "text": [
      "Enter the current temperature: 2\n",
      "good bye\n"
     ]
    }
   ],
   "source": [
    "temp = eval(input(\"Enter the current temperature: \"))\n",
    "\n",
    "if temp > 86:\n",
    "    print(\"it is hot\")\n",
    "    print(\"make sure to drink liquids\")\n",
    "print(\"good bye\")"
   ]
  },
  {
   "cell_type": "markdown",
   "metadata": {},
   "source": [
    "# 3.2"
   ]
  },
  {
   "cell_type": "code",
   "execution_count": 13,
   "metadata": {},
   "outputs": [
    {
     "name": "stdout",
     "output_type": "stream",
     "text": [
      "Enter your age: 1\n"
     ]
    }
   ],
   "source": [
    "age = eval(input(\"Enter your age: \"))\n",
    "\n",
    "if age > 62:\n",
    "    print(\"You can get your pension benefits. \")"
   ]
  },
  {
   "cell_type": "code",
   "execution_count": 14,
   "metadata": {},
   "outputs": [
    {
     "name": "stdout",
     "output_type": "stream",
     "text": [
      "Enter the name: 1\n"
     ]
    }
   ],
   "source": [
    "list_players = [\"musial\", \"Aaroan\", \"Williams\", \"gehrig\", \"ruth\"]\n",
    "i = str(input(\"Enter the name: \"))\n",
    "if i in list_players:\n",
    "    print(\"One of the top 5 baseball players. \")"
   ]
  },
  {
   "cell_type": "code",
   "execution_count": null,
   "metadata": {},
   "outputs": [],
   "source": [
    "hit = eval(input(\"Enter the value of hits: \"))\n",
    "sheild = eval(input(\"Enter the value of sheild: \"))\n",
    "if hit > 10 and sheild == 0:\n",
    "    print(\"Your are dead...\")"
   ]
  },
  {
   "cell_type": "code",
   "execution_count": null,
   "metadata": {},
   "outputs": [],
   "source": [
    "input_str = input(\"Enter string: \")\n",
    "if (input_str == \"north\"):\n",
    "    print(\"I can escape.\")\n",
    "elif (input_str == \"south\"):\n",
    "    print(\"I can escape.\")\n",
    "elif (input_str == \"east\"):\n",
    "    print(\"I can escape.\")\n",
    "elif (input_str == \"west\"):\n",
    "    print(\"I can escape.\")\n",
    "else:\n",
    "    print(\"sorry\")"
   ]
  },
  {
   "cell_type": "markdown",
   "metadata": {},
   "source": [
    "# 3.3"
   ]
  },
  {
   "cell_type": "code",
   "execution_count": null,
   "metadata": {},
   "outputs": [],
   "source": [
    "year = (int(input(\"Enter year: \")))\n",
    "if year%4:\n",
    "    print(\"It is a leap year..\")\n",
    "else:\n",
    "     print(\"It is definetly not a leap year..\")"
   ]
  },
  {
   "cell_type": "code",
   "execution_count": null,
   "metadata": {},
   "outputs": [],
   "source": [
    "list_ticket =[1,2,3,4,5,6,7,8,9] \n",
    "list_lottery =[1,2,3,4,5,6,7,8,9]\n",
    "if (list_ticket == list_lottery):\n",
    "    print(\"You won! \")\n",
    "else:\n",
    "    print(\"Try again\")"
   ]
  },
  {
   "cell_type": "markdown",
   "metadata": {},
   "source": [
    "# 3.4"
   ]
  },
  {
   "cell_type": "code",
   "execution_count": null,
   "metadata": {},
   "outputs": [],
   "source": [
    "Login_id = str(input(\"Enter your Login ID: \"))\n",
    "list_id = ['joe', 'sue', 'hani', 'sophie']\n",
    "if (Login_id in list_id):\n",
    "    print(\"login: \",Login_id)\n",
    "    print(\"You are in!\")\n",
    "else:\n",
    "    print(\"login: \",Login_id)\n",
    "    print(\"User unknown\")\n",
    "print(\"Done.\")"
   ]
  },
  {
   "cell_type": "code",
   "execution_count": null,
   "metadata": {},
   "outputs": [],
   "source": [
    "Login_id = str(input(\"Enter your Login ID: \"))\n",
    "list_id = ['joe', 'sue', 'hani', 'sophie']\n",
    "if (Login_id in list_id):\n",
    "    print(\"login: \",Login_id)\n",
    "    print(\"You are in!\")\n",
    "else:\n",
    "    print(\"login: \",Login_id)\n",
    "    print(\"User unknown\")\n",
    "print(\"Done.\")"
   ]
  },
  {
   "cell_type": "markdown",
   "metadata": {},
   "source": [
    "# 3.5"
   ]
  },
  {
   "cell_type": "code",
   "execution_count": null,
   "metadata": {},
   "outputs": [],
   "source": [
    "word_list = eval(input(\"Enter word list: \"))\n",
    "for word in word_list:\n",
    "    if len(word) == 4:\n",
    "        print(word) "
   ]
  },
  {
   "cell_type": "markdown",
   "metadata": {},
   "source": [
    "# 3.6"
   ]
  },
  {
   "cell_type": "code",
   "execution_count": null,
   "metadata": {},
   "outputs": [],
   "source": [
    "for i in range(10):\n",
    "    print(i)"
   ]
  },
  {
   "cell_type": "code",
   "execution_count": null,
   "metadata": {},
   "outputs": [],
   "source": [
    "for i in range(2):\n",
    "    print(i)"
   ]
  },
  {
   "cell_type": "markdown",
   "metadata": {},
   "source": [
    "# 3.7"
   ]
  },
  {
   "cell_type": "code",
   "execution_count": null,
   "metadata": {},
   "outputs": [],
   "source": [
    "for i in range(3 ,13):\n",
    "    print(i)"
   ]
  },
  {
   "cell_type": "code",
   "execution_count": null,
   "metadata": {},
   "outputs": [],
   "source": [
    "for i in range(0, 10, 2):\n",
    "    print(i)"
   ]
  },
  {
   "cell_type": "code",
   "execution_count": null,
   "metadata": {},
   "outputs": [],
   "source": [
    "for i in range(0 , 24, 3):\n",
    "    print(i)"
   ]
  },
  {
   "cell_type": "code",
   "execution_count": null,
   "metadata": {},
   "outputs": [],
   "source": [
    "for i in range(3 ,12 , 5):\n",
    "    print(i)"
   ]
  },
  {
   "cell_type": "code",
   "execution_count": null,
   "metadata": {},
   "outputs": [],
   "source": [
    "def f(x):\n",
    "    res = x**2 + 1\n",
    "    return res\n",
    "f(5)"
   ]
  },
  {
   "cell_type": "markdown",
   "metadata": {},
   "source": [
    "# 3.8"
   ]
  },
  {
   "cell_type": "code",
   "execution_count": null,
   "metadata": {},
   "outputs": [],
   "source": [
    "import math\n",
    "def perimeter(r):\n",
    "    return 2*math.pi * r\n",
    "perimeter(1)"
   ]
  },
  {
   "cell_type": "code",
   "execution_count": null,
   "metadata": {},
   "outputs": [],
   "source": [
    "perimeter(2)"
   ]
  },
  {
   "cell_type": "markdown",
   "metadata": {},
   "source": [
    "# 3.9"
   ]
  },
  {
   "cell_type": "code",
   "execution_count": null,
   "metadata": {},
   "outputs": [],
   "source": [
    "def average(x,y):\n",
    "    'it will return average of two values'\n",
    "    return (x+y)/2\n",
    "average(1,3)"
   ]
  },
  {
   "cell_type": "code",
   "execution_count": null,
   "metadata": {},
   "outputs": [],
   "source": [
    "average(2,3.5)"
   ]
  },
  {
   "cell_type": "markdown",
   "metadata": {},
   "source": [
    "# 3.10"
   ]
  },
  {
   "cell_type": "code",
   "execution_count": null,
   "metadata": {},
   "outputs": [],
   "source": [
    "def noVowel(n):\n",
    "    'return true if string n contains vowel otherwise return false'\n",
    "    for c in n:\n",
    "        if c in \"aeiouAEIOU\":\n",
    "            return False\n",
    "    return True\n",
    "noVowel('muneeb sikandar')"
   ]
  },
  {
   "cell_type": "code",
   "execution_count": null,
   "metadata": {},
   "outputs": [],
   "source": [
    "help(noVowel)"
   ]
  },
  {
   "cell_type": "markdown",
   "metadata": {},
   "source": [
    "# 3.11"
   ]
  },
  {
   "cell_type": "code",
   "execution_count": null,
   "metadata": {},
   "outputs": [],
   "source": [
    "def allEven(list_num):\n",
    "    for num in list_num:\n",
    "        if num %2 != 0:\n",
    "            return False\n",
    "    return True\n",
    "allEven([8, 0 , -2, 4, -6, 10])"
   ]
  },
  {
   "cell_type": "code",
   "execution_count": null,
   "metadata": {},
   "outputs": [],
   "source": [
    "allEven([2,3,4,1,2,-2])"
   ]
  },
  {
   "cell_type": "markdown",
   "metadata": {},
   "source": [
    "# 3.12"
   ]
  },
  {
   "cell_type": "code",
   "execution_count": null,
   "metadata": {},
   "outputs": [],
   "source": [
    "def negatives(neg_num):\n",
    "    'this will take negative value in list and return one per line'\n",
    "    for i in neg_num:\n",
    "        if i < 0:\n",
    "            print(i)\n",
    "negatives([4,0,-1,-3,6,-9])"
   ]
  },
  {
   "cell_type": "code",
   "execution_count": null,
   "metadata": {},
   "outputs": [],
   "source": [
    "s = input(\"Enter square or cube: \")\n",
    "if s == \"square\":\n",
    "    def f(x):\n",
    "        return x**2\n",
    "else:\n",
    "    def f(x):\n",
    "        return x**3\n",
    "f(2)"
   ]
  },
  {
   "cell_type": "markdown",
   "metadata": {},
   "source": [
    "# 3.13"
   ]
  },
  {
   "cell_type": "code",
   "execution_count": null,
   "metadata": {},
   "outputs": [],
   "source": [
    "help(average)"
   ]
  },
  {
   "cell_type": "markdown",
   "metadata": {},
   "source": [
    "# 3.15"
   ]
  },
  {
   "cell_type": "code",
   "execution_count": null,
   "metadata": {},
   "outputs": [],
   "source": [
    "def swap_teams(list_team):\n",
    "    list_team[0],list_team[-1] = list_team[-1], list_team[0]\n",
    "    return list_team"
   ]
  },
  {
   "cell_type": "code",
   "execution_count": null,
   "metadata": {},
   "outputs": [],
   "source": [
    "swap_teams(['ava','eleanor', 'clare', \"sarah\"])"
   ]
  },
  {
   "cell_type": "markdown",
   "metadata": {},
   "source": [
    "# EXERCISES"
   ]
  },
  {
   "cell_type": "markdown",
   "metadata": {},
   "source": [
    "# 3.17"
   ]
  },
  {
   "cell_type": "code",
   "execution_count": null,
   "metadata": {},
   "outputs": [],
   "source": [
    "\n",
    "eval(\"2*3+1\")"
   ]
  },
  {
   "cell_type": "code",
   "execution_count": null,
   "metadata": {},
   "outputs": [],
   "source": [
    "eval(\"'hello' + ' ' + 'world'\")"
   ]
  },
  {
   "cell_type": "code",
   "execution_count": null,
   "metadata": {},
   "outputs": [],
   "source": [
    "eval(\"'ASCII'.count('I')\")"
   ]
  },
  {
   "cell_type": "markdown",
   "metadata": {},
   "source": [
    "# 3.18"
   ]
  },
  {
   "cell_type": "code",
   "execution_count": null,
   "metadata": {},
   "outputs": [],
   "source": [
    "\n",
    "a,b,c = 3,4,5\n",
    "if (a < b):\n",
    "    print(\"Ok\")\n",
    "elif (c < b):\n",
    "    print(\"OK\")\n",
    "elif ((a + b) == c):\n",
    "    print(\"OK\")\n",
    "elif ((a**2+b**2) == c**2):\n",
    "    print(\"OK\")\n",
    "else:\n",
    "    pass"
   ]
  },
  {
   "cell_type": "markdown",
   "metadata": {},
   "source": [
    "# 3.19"
   ]
  },
  {
   "cell_type": "code",
   "execution_count": null,
   "metadata": {},
   "outputs": [],
   "source": [
    "a,b,c = 3,4,5\n",
    "if (a < b):\n",
    "    print(\"Ok\")\n",
    "else:\n",
    "    print(\"NOT OK\")\n",
    "if (c < b):\n",
    "    print(\"OK\")\n",
    "else:\n",
    "    print(\"NOT OK\")\n",
    "if ((a + b) == c):\n",
    "    print(\"OK\")\n",
    "else:\n",
    "    print(\"NOT OK\")\n",
    "if ((a**2+b**2) == c**2):\n",
    "    print(\"OK\")\n",
    "else:\n",
    "    print(\"NOT OK\")"
   ]
  },
  {
   "cell_type": "markdown",
   "metadata": {},
   "source": [
    "# 3.20"
   ]
  },
  {
   "cell_type": "code",
   "execution_count": 16,
   "metadata": {},
   "outputs": [
    {
     "name": "stdout",
     "output_type": "stream",
     "text": [
      "Jan\n",
      "Feb\n",
      "Mar\n"
     ]
    }
   ],
   "source": [
    "lst = [\"January\", \"February\", \"March\"]\n",
    "for word in lst:\n",
    "    print(word[:3])"
   ]
  },
  {
   "cell_type": "markdown",
   "metadata": {},
   "source": [
    "# 3.21"
   ]
  },
  {
   "cell_type": "code",
   "execution_count": 17,
   "metadata": {},
   "outputs": [
    {
     "name": "stdout",
     "output_type": "stream",
     "text": [
      "2\n",
      "4\n",
      "6\n",
      "8\n"
     ]
    }
   ],
   "source": [
    "lst = [2, 3, 4, 5, 6, 7, 8, 9]\n",
    "for x in lst:\n",
    "    if x%2 == 0:\n",
    "        print(x)"
   ]
  },
  {
   "cell_type": "markdown",
   "metadata": {},
   "source": [
    "# 3.22"
   ]
  },
  {
   "cell_type": "code",
   "execution_count": 18,
   "metadata": {},
   "outputs": [
    {
     "name": "stdout",
     "output_type": "stream",
     "text": [
      "4\n",
      "8\n"
     ]
    }
   ],
   "source": [
    "lst = [2, 3, 4, 5, 6, 7, 8, 9]\n",
    "for x in lst:\n",
    "    if (x**2)%8 == 0:\n",
    "        print(x)"
   ]
  },
  {
   "cell_type": "markdown",
   "metadata": {},
   "source": [
    "# 3.23"
   ]
  },
  {
   "cell_type": "code",
   "execution_count": 19,
   "metadata": {},
   "outputs": [
    {
     "name": "stdout",
     "output_type": "stream",
     "text": [
      "0 1 0 3 4 5 6 1 0 1 2 3 5 9 13 17 21 "
     ]
    }
   ],
   "source": [
    "for i in range(2):\n",
    "    print(i, end=\" \")\n",
    "for i in range(1):\n",
    "    print(i, end=\" \")\n",
    "for i in range(3,7):\n",
    "    print(i, end= \" \")\n",
    "for i in range(1,2):\n",
    "    print(i, end=\" \")\n",
    "for i in range(4):\n",
    "    print(i, end =\" \")\n",
    "for i in range(5, 22, 4):\n",
    "    print(i, end= \" \")"
   ]
  },
  {
   "cell_type": "markdown",
   "metadata": {},
   "source": [
    "# 3.24"
   ]
  },
  {
   "cell_type": "code",
   "execution_count": null,
   "metadata": {},
   "outputs": [],
   "source": [
    "lst = ['cia', 'secret', 'mi6', 'isi', 'secret']\n",
    "for word in lst:\n",
    "    if word != 'secret':\n",
    "        print(word)"
   ]
  },
  {
   "cell_type": "markdown",
   "metadata": {},
   "source": [
    "# 3.25"
   ]
  },
  {
   "cell_type": "code",
   "execution_count": null,
   "metadata": {},
   "outputs": [],
   "source": [
    "student_lst = (str(input(\"Enter list of student names: \")))\n",
    "for word in student_lst:\n",
    "    if word[0] >= \"A\" and word[0] <= \"M\":\n",
    "        print(word)"
   ]
  },
  {
   "cell_type": "markdown",
   "metadata": {},
   "source": [
    "# 3.26"
   ]
  },
  {
   "cell_type": "code",
   "execution_count": null,
   "metadata": {},
   "outputs": [],
   "source": [
    "lst_num = (eval(input(\"Enter list of numbers: \")))\n",
    "print(\"The first num of list is:\", lst_num[0])\n",
    "print(\"The Last num of list is:\", lst_num[-1])"
   ]
  },
  {
   "cell_type": "markdown",
   "metadata": {},
   "source": [
    "# 3.27"
   ]
  },
  {
   "cell_type": "code",
   "execution_count": null,
   "metadata": {},
   "outputs": [],
   "source": [
    "n = eval(input(\"Enter number: \"))\n",
    "for i in range(4):\n",
    "    print(n*i)"
   ]
  },
  {
   "cell_type": "markdown",
   "metadata": {},
   "source": [
    "# 3.28"
   ]
  },
  {
   "cell_type": "code",
   "execution_count": null,
   "metadata": {},
   "outputs": [],
   "source": [
    "n = eval(input(\"Enter number: \"))\n",
    "for i in range(n):\n",
    "    print(i*i)"
   ]
  },
  {
   "cell_type": "markdown",
   "metadata": {},
   "source": [
    "# 3.29"
   ]
  },
  {
   "cell_type": "code",
   "execution_count": 1,
   "metadata": {},
   "outputs": [
    {
     "name": "stdout",
     "output_type": "stream",
     "text": [
      "Enter n: 132\n",
      "1\n",
      "2\n",
      "3\n",
      "4\n",
      "6\n",
      "11\n",
      "12\n",
      "22\n",
      "33\n",
      "44\n",
      "66\n",
      "132\n"
     ]
    }
   ],
   "source": [
    "n = eval(input(\"Enter n: \" ))\n",
    "for i in range(1,n+1):\n",
    "    if(n%i==0):\n",
    "        print(i)"
   ]
  },
  {
   "cell_type": "markdown",
   "metadata": {},
   "source": [
    "# 3.30"
   ]
  },
  {
   "cell_type": "code",
   "execution_count": null,
   "metadata": {},
   "outputs": [],
   "source": [
    "n1 = eval(input(\"Enter first number: \" ))\n",
    "n2 = eval(input(\"Enter second number: \" ))\n",
    "n3 = eval(input(\"Enter third number: \" ))\n",
    "n4 = eval(input(\"Enter last number: \" ))\n",
    "if (n1+n2+n3)/3 == n4:\n",
    "    print(\"Equal\")"
   ]
  },
  {
   "cell_type": "markdown",
   "metadata": {},
   "source": [
    "# 3.31"
   ]
  },
  {
   "cell_type": "code",
   "execution_count": null,
   "metadata": {},
   "outputs": [],
   "source": [
    "x = eval(input(\"Enter x: \" ))\n",
    "y = eval(input(\"Enter y: \" ))\n",
    "if x**2+y**2 < 8**2:\n",
    "    print(\"It is in!\")\n",
    "\n"
   ]
  },
  {
   "cell_type": "markdown",
   "metadata": {},
   "source": [
    "# 3.32"
   ]
  },
  {
   "cell_type": "code",
   "execution_count": null,
   "metadata": {},
   "outputs": [],
   "source": [
    "n = eval(input(\"Enter n: \"))\n",
    "x = 10\n",
    "while(n/(10*x)!=0):\n",
    "    x=x*10\n",
    "while(n>0):\n",
    "    print(int(n/x))\n",
    "    n = n%x\n",
    "    x=x/10"
   ]
  },
  {
   "cell_type": "markdown",
   "metadata": {},
   "source": [
    "# 3.33"
   ]
  },
  {
   "cell_type": "code",
   "execution_count": 3,
   "metadata": {},
   "outputs": [
    {
     "data": {
      "text/plain": [
       "'fds'"
      ]
     },
     "execution_count": 3,
     "metadata": {},
     "output_type": "execute_result"
    }
   ],
   "source": [
    "def reverseStr(s):\n",
    "    'This will take a string and print it in reverse order'\n",
    "    return s[::-1]\n",
    "reverseStr(\"sdf\")"
   ]
  },
  {
   "cell_type": "code",
   "execution_count": 4,
   "metadata": {},
   "outputs": [
    {
     "data": {
      "text/plain": [
       "'sdfd'"
      ]
     },
     "execution_count": 4,
     "metadata": {},
     "output_type": "execute_result"
    }
   ],
   "source": [
    "reverseStr(\"dfds\")"
   ]
  },
  {
   "cell_type": "markdown",
   "metadata": {},
   "source": [
    "# 3.34"
   ]
  },
  {
   "cell_type": "code",
   "execution_count": null,
   "metadata": {},
   "outputs": [],
   "source": [
    "def pay(wage,hours):\n",
    "    payment = 0\n",
    "    if(hours > 40):\n",
    "        payment = payment + (hours-40)*wage*1.5\n",
    "        payment = payment + (40)*wage\n",
    "    else:\n",
    "        payment = payment + hours*wage\n",
    "    return payment\n",
    "pay(10,35)"
   ]
  },
  {
   "cell_type": "code",
   "execution_count": null,
   "metadata": {},
   "outputs": [],
   "source": [
    "pay(10,45)"
   ]
  },
  {
   "cell_type": "markdown",
   "metadata": {},
   "source": [
    "# 3.35"
   ]
  },
  {
   "cell_type": "code",
   "execution_count": null,
   "metadata": {},
   "outputs": [],
   "source": [
    "def prob(n):\n",
    "    return 2**(-n)\n",
    "prob(1)"
   ]
  },
  {
   "cell_type": "code",
   "execution_count": null,
   "metadata": {},
   "outputs": [],
   "source": [
    "prob(2)"
   ]
  },
  {
   "cell_type": "markdown",
   "metadata": {},
   "source": [
    "# 3.36"
   ]
  },
  {
   "cell_type": "code",
   "execution_count": null,
   "metadata": {},
   "outputs": [],
   "source": [
    "def reverse_int(n):\n",
    "    x=0\n",
    "    while(n!=0):\n",
    "        x*=10\n",
    "        x+=n%10\n",
    "        n=n//10\n",
    "    return x\n",
    "reverse_int(123)"
   ]
  },
  {
   "cell_type": "markdown",
   "metadata": {},
   "source": [
    "# 3.37"
   ]
  },
  {
   "cell_type": "code",
   "execution_count": null,
   "metadata": {},
   "outputs": [],
   "source": [
    "import math\n",
    "def points(x1,y1,x2,y2):\n",
    "    distance = str(math.sqrt((x1-x2)**2+(y1-y2)**2))\n",
    "    if(x1==x2):\n",
    "        slope = \"infinity\"\n",
    "    else:\n",
    "        slope = str((y2-y1)/(x2-x1))\n",
    "    print(\"The slope is \"+slope+\" and the distance is \"+distance)\n",
    "points(0,0,1,1)"
   ]
  },
  {
   "cell_type": "markdown",
   "metadata": {},
   "source": [
    "# 3.38"
   ]
  },
  {
   "cell_type": "code",
   "execution_count": 6,
   "metadata": {},
   "outputs": [
    {
     "data": {
      "text/plain": [
       "'Mon'"
      ]
     },
     "execution_count": 6,
     "metadata": {},
     "output_type": "execute_result"
    }
   ],
   "source": [
    "def abbreviation(day):\n",
    "    if(day == \"Monday\"):\n",
    "        return \"Mon\"\n",
    "    elif(day == \"Tuesday\"):\n",
    "        return \"Tues\"\n",
    "    elif(day == \"Wednesday\"):\n",
    "        return \"Wed\"\n",
    "    elif(day == \"Thursday\"):\n",
    "        return \"Thrs\"\n",
    "    elif(day == \"Friday\"):\n",
    "        return \"Fri\"\n",
    "    elif(day == \"Saturday\"):\n",
    "        return \"Sat\"\n",
    "    elif(day == \"Sunday\"):\n",
    "        return \"Sun\"\n",
    "abbreviation(\"Monday\")"
   ]
  },
  {
   "cell_type": "markdown",
   "metadata": {},
   "source": [
    "# 3.39"
   ]
  },
  {
   "cell_type": "code",
   "execution_count": null,
   "metadata": {},
   "outputs": [],
   "source": [
    "def collision(x1,y1,r1,x2,y2,r2):\n",
    "    if(math.sqrt((x1-x2)**2+(y1-y2)**2) > r1+r2):\n",
    "        return False\n",
    "    else:\n",
    "        return True\n",
    "collision(0,0,3,0,5,3)"
   ]
  },
  {
   "cell_type": "markdown",
   "metadata": {},
   "source": [
    "# 3.40\n"
   ]
  },
  {
   "cell_type": "code",
   "execution_count": null,
   "metadata": {},
   "outputs": [],
   "source": [
    "def partition(list):\n",
    "    for name in list:\n",
    "        if name[0] >= \"A\" and name[0] <= \"M\":\n",
    "            print(name)\n",
    "partition([\"Eleanor\", \"Evelyn\", \"Sammy\", \"Owen\", \"Gavin\"])"
   ]
  },
  {
   "cell_type": "markdown",
   "metadata": {},
   "source": [
    "# 3.41"
   ]
  },
  {
   "cell_type": "code",
   "execution_count": 7,
   "metadata": {},
   "outputs": [
    {
     "data": {
      "text/plain": [
       "'SIKANDAR, M.'"
      ]
     },
     "execution_count": 7,
     "metadata": {},
     "output_type": "execute_result"
    }
   ],
   "source": [
    "def lastF(firstname,lastname):\n",
    "    return lastname+\", \"+firstname[0]+\".\"\n",
    "lastF(\"MUNBEEB\",\"SIKANDAR\")"
   ]
  },
  {
   "cell_type": "markdown",
   "metadata": {},
   "source": [
    "# 3.42"
   ]
  },
  {
   "cell_type": "code",
   "execution_count": 8,
   "metadata": {},
   "outputs": [
    {
     "name": "stdout",
     "output_type": "stream",
     "text": [
      "90.0\n",
      "60.0\n",
      "87.0\n",
      "11.0\n"
     ]
    }
   ],
   "source": [
    "def avg(lists):\n",
    "    for list in lists:\n",
    "        print(sum(list)/len(list))\n",
    "avg([[95,92,86,87],[66,54],[89,72,100],[33,0,0]])"
   ]
  },
  {
   "cell_type": "markdown",
   "metadata": {},
   "source": [
    "# 3.43"
   ]
  },
  {
   "cell_type": "code",
   "execution_count": 21,
   "metadata": {},
   "outputs": [
    {
     "data": {
      "text/plain": [
       "False"
      ]
     },
     "execution_count": 21,
     "metadata": {},
     "output_type": "execute_result"
    }
   ],
   "source": [
    "import math\n",
    "def hit(x1,y1,r,x2,y2):\n",
    "    if(math.sqrt((x1-x2)**2+(y1-y2)**2) > r):\n",
    "        return True\n",
    "    else:\n",
    "        return False\n",
    "hit(0,0,3,3,0)"
   ]
  },
  {
   "cell_type": "markdown",
   "metadata": {},
   "source": [
    "# 3.44"
   ]
  },
  {
   "cell_type": "code",
   "execution_count": null,
   "metadata": {},
   "outputs": [],
   "source": [
    "def distance(n):\n",
    "    return n*340.29/1000\n",
    "distance(4)"
   ]
  }
 ],
 "metadata": {
  "kernelspec": {
   "display_name": "Python 3",
   "language": "python",
   "name": "python3"
  },
  "language_info": {
   "codemirror_mode": {
    "name": "ipython",
    "version": 3
   },
   "file_extension": ".py",
   "mimetype": "text/x-python",
   "name": "python",
   "nbconvert_exporter": "python",
   "pygments_lexer": "ipython3",
   "version": "3.7.3"
  }
 },
 "nbformat": 4,
 "nbformat_minor": 2
}
